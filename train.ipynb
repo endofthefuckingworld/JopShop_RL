{
 "cells": [
  {
   "cell_type": "code",
   "execution_count": 1,
   "metadata": {},
   "outputs": [],
   "source": [
    "import tensorflow as tf\n",
    "from jobshop_env import Factory\n",
    "from DQN_agent import DQN_agent_PER as DQN_agent\n",
    "import numpy as np\n",
    "import matplotlib.pyplot as plt\n",
    "plt.style.use(\"seaborn\")\n",
    "from tqdm import tqdm\n",
    "\n",
    "max_steps_per_episode = 1000\n",
    "update_target_network = 5000\n",
    "update_per_actions = 4\n",
    "n_jobs = 6\n",
    "n_machines = 6\n",
    "channel = 5\n",
    "n_states = (channel, n_jobs, n_machines)\n",
    "n_actions = 9\n",
    "\n",
    "env = Factory()\n",
    "agent = DQN_agent(n_states, n_actions)"
   ]
  },
  {
   "cell_type": "code",
   "execution_count": 2,
   "metadata": {},
   "outputs": [],
   "source": [
    "# tensorboardX\n",
    "import time\n",
    "from tensorboardX import SummaryWriter"
   ]
  },
  {
   "cell_type": "code",
   "execution_count": 3,
   "metadata": {},
   "outputs": [
    {
     "name": "stderr",
     "output_type": "stream",
     "text": [
      "100%|█████████▉| 29999/30000 [9:00:24<00:01,  1.08s/it]  "
     ]
    },
    {
     "name": "stdout",
     "output_type": "stream",
     "text": [
      "WARNING:tensorflow:Compiled the loaded model, but the compiled metrics have yet to be built. `model.compile_metrics` will be empty until you train or evaluate the model.\n"
     ]
    },
    {
     "name": "stderr",
     "output_type": "stream",
     "text": [
      "\n"
     ]
    }
   ],
   "source": [
    "\n",
    "total_episode = 30000\n",
    "agent = DQN_agent(n_states, n_actions) #建立agent物件\n",
    "env = Factory() #建立environment物件\n",
    "for episode in tqdm(range(1, total_episode+1)): #每個訓練回合皆進行一次排程\n",
    "    state = env.reset() #初始化模擬環境，推進到第一個學習事件\n",
    "    episode_reward = 0\n",
    "    for timestep in range(1, max_steps_per_episode):\n",
    "        agent.frame_count += 1 #紀錄步數\n",
    "        action = agent.choose_action(state) # 動作選擇\n",
    "        agent.decay_epsilon()  # 探索率衰減\n",
    "\n",
    "        next_state, reward, done, inf = env.step(action) #推進到下一個學習事件\n",
    "\n",
    "        episode_reward += reward\n",
    "\n",
    "        agent.store(state, action, next_state, reward, done) # 每次互動儲存訓練資料\n",
    "\n",
    "        state = next_state\n",
    "\n",
    "        if agent.frame_count % update_per_actions == 0 and len(agent.buffer.buffer) >= agent.batch_size:\n",
    "            #每update_per_actions步進行神經網路學習\n",
    "            agent.train_q_network()\n",
    "\n",
    "        if agent.frame_count % update_target_network == 0:\n",
    "            #每update_target_network步更新target神經網路學習\n",
    "            agent.update_target_network()\n",
    "\n",
    "        if done:\n",
    "            break\n",
    "    \n",
    "agent.q_network.save('Model/ft06_DQN_model.h5')"
   ]
  },
  {
   "cell_type": "code",
   "execution_count": 4,
   "metadata": {},
   "outputs": [
    {
     "name": "stdout",
     "output_type": "stream",
     "text": [
      "Time:0.0 Dispatching Rule: 6\n",
      "Time:3.0 Dispatching Rule: 2\n",
      "Time:9.0 Dispatching Rule: 5\n",
      "Time:11.0 Dispatching Rule: 6\n",
      "Time:14.0 Dispatching Rule: 2\n",
      "Time:31.0 Dispatching Rule: 6\n",
      "58.0\n"
     ]
    }
   ],
   "source": [
    "state = env.reset()\n",
    "agent.epsilon = 0.0\n",
    "\n",
    "while True:\n",
    "    action = agent.choose_action(state)\n",
    "    print(\"Time:\"+str(env.env.now)+\" Dispatching Rule:\",action)\n",
    "    next_state, reward, done, inf = env.step(action)\n",
    "    \n",
    "    state = next_state\n",
    "\n",
    "    if done:\n",
    "        print(inf)\n",
    "        break"
   ]
  }
 ],
 "metadata": {
  "kernelspec": {
   "display_name": "Python 3.9.12 ('Terry')",
   "language": "python",
   "name": "python3"
  },
  "language_info": {
   "codemirror_mode": {
    "name": "ipython",
    "version": 3
   },
   "file_extension": ".py",
   "mimetype": "text/x-python",
   "name": "python",
   "nbconvert_exporter": "python",
   "pygments_lexer": "ipython3",
   "version": "3.9.12"
  },
  "orig_nbformat": 4,
  "vscode": {
   "interpreter": {
    "hash": "d48fea29b5c785b224b8f445531be3f4af692ea6256bf4222ac9df6f7f80872a"
   }
  }
 },
 "nbformat": 4,
 "nbformat_minor": 2
}
